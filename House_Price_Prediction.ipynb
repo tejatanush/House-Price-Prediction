{
  "nbformat": 4,
  "nbformat_minor": 0,
  "metadata": {
    "colab": {
      "provenance": [],
      "authorship_tag": "ABX9TyPHxyUAehQEmCKzqU+w+NUZ",
      "include_colab_link": true
    },
    "kernelspec": {
      "name": "python3",
      "display_name": "Python 3"
    },
    "language_info": {
      "name": "python"
    }
  },
  "cells": [
    {
      "cell_type": "markdown",
      "metadata": {
        "id": "view-in-github",
        "colab_type": "text"
      },
      "source": [
        "<a href=\"https://colab.research.google.com/github/tejatanush/House-Price-Prediction/blob/main/House_Price_Prediction.ipynb\" target=\"_parent\"><img src=\"https://colab.research.google.com/assets/colab-badge.svg\" alt=\"Open In Colab\"/></a>"
      ]
    },
    {
      "cell_type": "markdown",
      "source": [
        "# **Model Description:**"
      ],
      "metadata": {
        "id": "3NZnmUqbFtUd"
      }
    },
    {
      "cell_type": "markdown",
      "source": [
        "This model is capable to predict accurate prices of houses in a city using features like area,No.of bedrooms, No. of bathrooms, No.of stairs...etc.Dataset contains 13 different features on which price of house depends.This model makes easier to placeholders and in real estate field.It makes customers  easier to know price of desired house."
      ],
      "metadata": {
        "id": "8hKx09vV_r_T"
      }
    },
    {
      "cell_type": "markdown",
      "source": [
        "# Steps to build a model:\n",
        "\n",
        "\n",
        "1.   Import required libraries\n",
        "2.   Import dataset\n",
        "3.   Data Preprocessing\n",
        "*   Find and fill missing values\n",
        "*   Encoding data\n",
        "*   Splitting into training and testing set\n",
        "*   Feature Scaling\n",
        "4.   Selection of model\n",
        "5.   Build a model\n",
        "6.   Evaluate model\n",
        "7. Predict Results\n",
        "8.   Visualize results\n"
      ],
      "metadata": {
        "id": "hHn5D9zQGOuK"
      }
    },
    {
      "cell_type": "markdown",
      "source": [
        "# 1. Import libraries"
      ],
      "metadata": {
        "id": "6cATqiRVItCN"
      }
    },
    {
      "cell_type": "code",
      "source": [
        "import pandas as pd\n",
        "import matplotlib.pyplot as plt\n",
        "import numpy as np\n",
        "import tensorflow as tf"
      ],
      "metadata": {
        "id": "PLHiACrNFMhb"
      },
      "execution_count": null,
      "outputs": []
    },
    {
      "cell_type": "markdown",
      "source": [
        "# 2. Import Dataset\n",
        "This dataset was imported from kaggel website. It consists of many independent features on which price of house is predicted accurately.\n",
        "# Reference:\n",
        " https://www.kaggle.com/datasets/yasserh/housing-prices-dataset\n",
        "Let's split our data into two parts. Dependent variable prices as 'y' and independent variables as 'x'."
      ],
      "metadata": {
        "id": "Y2mnpFCHJGqz"
      }
    },
    {
      "cell_type": "code",
      "source": [
        "dataset=pd.read_csv(\"Housing.csv\")\n",
        "x=dataset.iloc[:,1:].values\n",
        "y=dataset.iloc[:,0].values\n",
        "dataset.head()"
      ],
      "metadata": {
        "colab": {
          "base_uri": "https://localhost:8080/",
          "height": 206
        },
        "id": "HC9T4uNfJGFW",
        "outputId": "996c8d31-b59e-4648-b394-ba792033c08d"
      },
      "execution_count": null,
      "outputs": [
        {
          "output_type": "execute_result",
          "data": {
            "text/plain": [
              "     price  area  bedrooms  bathrooms  stories mainroad guestroom basement  \\\n",
              "0  4410000  4900         2          1        2      yes        no      yes   \n",
              "1  1750000  3850         3          1        2      yes        no       no   \n",
              "2  5110000  6100         3          1        1      yes        no      yes   \n",
              "3  3780000  2856         3          1        3      yes        no       no   \n",
              "4  5810000  5828         4          1        4      yes       yes       no   \n",
              "\n",
              "  hotwaterheating airconditioning  parking prefarea furnishingstatus  \n",
              "0              no              no        0       no   semi-furnished  \n",
              "1              no              no        0       no      unfurnished  \n",
              "2              no             yes        0      yes   semi-furnished  \n",
              "3              no              no        0      yes        furnished  \n",
              "4              no              no        0       no   semi-furnished  "
            ],
            "text/html": [
              "\n",
              "  <div id=\"df-b20cc5f4-efc0-43aa-a4d8-ea232034eb66\" class=\"colab-df-container\">\n",
              "    <div>\n",
              "<style scoped>\n",
              "    .dataframe tbody tr th:only-of-type {\n",
              "        vertical-align: middle;\n",
              "    }\n",
              "\n",
              "    .dataframe tbody tr th {\n",
              "        vertical-align: top;\n",
              "    }\n",
              "\n",
              "    .dataframe thead th {\n",
              "        text-align: right;\n",
              "    }\n",
              "</style>\n",
              "<table border=\"1\" class=\"dataframe\">\n",
              "  <thead>\n",
              "    <tr style=\"text-align: right;\">\n",
              "      <th></th>\n",
              "      <th>price</th>\n",
              "      <th>area</th>\n",
              "      <th>bedrooms</th>\n",
              "      <th>bathrooms</th>\n",
              "      <th>stories</th>\n",
              "      <th>mainroad</th>\n",
              "      <th>guestroom</th>\n",
              "      <th>basement</th>\n",
              "      <th>hotwaterheating</th>\n",
              "      <th>airconditioning</th>\n",
              "      <th>parking</th>\n",
              "      <th>prefarea</th>\n",
              "      <th>furnishingstatus</th>\n",
              "    </tr>\n",
              "  </thead>\n",
              "  <tbody>\n",
              "    <tr>\n",
              "      <th>0</th>\n",
              "      <td>4410000</td>\n",
              "      <td>4900</td>\n",
              "      <td>2</td>\n",
              "      <td>1</td>\n",
              "      <td>2</td>\n",
              "      <td>yes</td>\n",
              "      <td>no</td>\n",
              "      <td>yes</td>\n",
              "      <td>no</td>\n",
              "      <td>no</td>\n",
              "      <td>0</td>\n",
              "      <td>no</td>\n",
              "      <td>semi-furnished</td>\n",
              "    </tr>\n",
              "    <tr>\n",
              "      <th>1</th>\n",
              "      <td>1750000</td>\n",
              "      <td>3850</td>\n",
              "      <td>3</td>\n",
              "      <td>1</td>\n",
              "      <td>2</td>\n",
              "      <td>yes</td>\n",
              "      <td>no</td>\n",
              "      <td>no</td>\n",
              "      <td>no</td>\n",
              "      <td>no</td>\n",
              "      <td>0</td>\n",
              "      <td>no</td>\n",
              "      <td>unfurnished</td>\n",
              "    </tr>\n",
              "    <tr>\n",
              "      <th>2</th>\n",
              "      <td>5110000</td>\n",
              "      <td>6100</td>\n",
              "      <td>3</td>\n",
              "      <td>1</td>\n",
              "      <td>1</td>\n",
              "      <td>yes</td>\n",
              "      <td>no</td>\n",
              "      <td>yes</td>\n",
              "      <td>no</td>\n",
              "      <td>yes</td>\n",
              "      <td>0</td>\n",
              "      <td>yes</td>\n",
              "      <td>semi-furnished</td>\n",
              "    </tr>\n",
              "    <tr>\n",
              "      <th>3</th>\n",
              "      <td>3780000</td>\n",
              "      <td>2856</td>\n",
              "      <td>3</td>\n",
              "      <td>1</td>\n",
              "      <td>3</td>\n",
              "      <td>yes</td>\n",
              "      <td>no</td>\n",
              "      <td>no</td>\n",
              "      <td>no</td>\n",
              "      <td>no</td>\n",
              "      <td>0</td>\n",
              "      <td>yes</td>\n",
              "      <td>furnished</td>\n",
              "    </tr>\n",
              "    <tr>\n",
              "      <th>4</th>\n",
              "      <td>5810000</td>\n",
              "      <td>5828</td>\n",
              "      <td>4</td>\n",
              "      <td>1</td>\n",
              "      <td>4</td>\n",
              "      <td>yes</td>\n",
              "      <td>yes</td>\n",
              "      <td>no</td>\n",
              "      <td>no</td>\n",
              "      <td>no</td>\n",
              "      <td>0</td>\n",
              "      <td>no</td>\n",
              "      <td>semi-furnished</td>\n",
              "    </tr>\n",
              "  </tbody>\n",
              "</table>\n",
              "</div>\n",
              "    <div class=\"colab-df-buttons\">\n",
              "\n",
              "  <div class=\"colab-df-container\">\n",
              "    <button class=\"colab-df-convert\" onclick=\"convertToInteractive('df-b20cc5f4-efc0-43aa-a4d8-ea232034eb66')\"\n",
              "            title=\"Convert this dataframe to an interactive table.\"\n",
              "            style=\"display:none;\">\n",
              "\n",
              "  <svg xmlns=\"http://www.w3.org/2000/svg\" height=\"24px\" viewBox=\"0 -960 960 960\">\n",
              "    <path d=\"M120-120v-720h720v720H120Zm60-500h600v-160H180v160Zm220 220h160v-160H400v160Zm0 220h160v-160H400v160ZM180-400h160v-160H180v160Zm440 0h160v-160H620v160ZM180-180h160v-160H180v160Zm440 0h160v-160H620v160Z\"/>\n",
              "  </svg>\n",
              "    </button>\n",
              "\n",
              "  <style>\n",
              "    .colab-df-container {\n",
              "      display:flex;\n",
              "      gap: 12px;\n",
              "    }\n",
              "\n",
              "    .colab-df-convert {\n",
              "      background-color: #E8F0FE;\n",
              "      border: none;\n",
              "      border-radius: 50%;\n",
              "      cursor: pointer;\n",
              "      display: none;\n",
              "      fill: #1967D2;\n",
              "      height: 32px;\n",
              "      padding: 0 0 0 0;\n",
              "      width: 32px;\n",
              "    }\n",
              "\n",
              "    .colab-df-convert:hover {\n",
              "      background-color: #E2EBFA;\n",
              "      box-shadow: 0px 1px 2px rgba(60, 64, 67, 0.3), 0px 1px 3px 1px rgba(60, 64, 67, 0.15);\n",
              "      fill: #174EA6;\n",
              "    }\n",
              "\n",
              "    .colab-df-buttons div {\n",
              "      margin-bottom: 4px;\n",
              "    }\n",
              "\n",
              "    [theme=dark] .colab-df-convert {\n",
              "      background-color: #3B4455;\n",
              "      fill: #D2E3FC;\n",
              "    }\n",
              "\n",
              "    [theme=dark] .colab-df-convert:hover {\n",
              "      background-color: #434B5C;\n",
              "      box-shadow: 0px 1px 3px 1px rgba(0, 0, 0, 0.15);\n",
              "      filter: drop-shadow(0px 1px 2px rgba(0, 0, 0, 0.3));\n",
              "      fill: #FFFFFF;\n",
              "    }\n",
              "  </style>\n",
              "\n",
              "    <script>\n",
              "      const buttonEl =\n",
              "        document.querySelector('#df-b20cc5f4-efc0-43aa-a4d8-ea232034eb66 button.colab-df-convert');\n",
              "      buttonEl.style.display =\n",
              "        google.colab.kernel.accessAllowed ? 'block' : 'none';\n",
              "\n",
              "      async function convertToInteractive(key) {\n",
              "        const element = document.querySelector('#df-b20cc5f4-efc0-43aa-a4d8-ea232034eb66');\n",
              "        const dataTable =\n",
              "          await google.colab.kernel.invokeFunction('convertToInteractive',\n",
              "                                                    [key], {});\n",
              "        if (!dataTable) return;\n",
              "\n",
              "        const docLinkHtml = 'Like what you see? Visit the ' +\n",
              "          '<a target=\"_blank\" href=https://colab.research.google.com/notebooks/data_table.ipynb>data table notebook</a>'\n",
              "          + ' to learn more about interactive tables.';\n",
              "        element.innerHTML = '';\n",
              "        dataTable['output_type'] = 'display_data';\n",
              "        await google.colab.output.renderOutput(dataTable, element);\n",
              "        const docLink = document.createElement('div');\n",
              "        docLink.innerHTML = docLinkHtml;\n",
              "        element.appendChild(docLink);\n",
              "      }\n",
              "    </script>\n",
              "  </div>\n",
              "\n",
              "\n",
              "<div id=\"df-c8bac0e4-4632-4870-9179-b03f62a1f240\">\n",
              "  <button class=\"colab-df-quickchart\" onclick=\"quickchart('df-c8bac0e4-4632-4870-9179-b03f62a1f240')\"\n",
              "            title=\"Suggest charts\"\n",
              "            style=\"display:none;\">\n",
              "\n",
              "<svg xmlns=\"http://www.w3.org/2000/svg\" height=\"24px\"viewBox=\"0 0 24 24\"\n",
              "     width=\"24px\">\n",
              "    <g>\n",
              "        <path d=\"M19 3H5c-1.1 0-2 .9-2 2v14c0 1.1.9 2 2 2h14c1.1 0 2-.9 2-2V5c0-1.1-.9-2-2-2zM9 17H7v-7h2v7zm4 0h-2V7h2v10zm4 0h-2v-4h2v4z\"/>\n",
              "    </g>\n",
              "</svg>\n",
              "  </button>\n",
              "\n",
              "<style>\n",
              "  .colab-df-quickchart {\n",
              "      --bg-color: #E8F0FE;\n",
              "      --fill-color: #1967D2;\n",
              "      --hover-bg-color: #E2EBFA;\n",
              "      --hover-fill-color: #174EA6;\n",
              "      --disabled-fill-color: #AAA;\n",
              "      --disabled-bg-color: #DDD;\n",
              "  }\n",
              "\n",
              "  [theme=dark] .colab-df-quickchart {\n",
              "      --bg-color: #3B4455;\n",
              "      --fill-color: #D2E3FC;\n",
              "      --hover-bg-color: #434B5C;\n",
              "      --hover-fill-color: #FFFFFF;\n",
              "      --disabled-bg-color: #3B4455;\n",
              "      --disabled-fill-color: #666;\n",
              "  }\n",
              "\n",
              "  .colab-df-quickchart {\n",
              "    background-color: var(--bg-color);\n",
              "    border: none;\n",
              "    border-radius: 50%;\n",
              "    cursor: pointer;\n",
              "    display: none;\n",
              "    fill: var(--fill-color);\n",
              "    height: 32px;\n",
              "    padding: 0;\n",
              "    width: 32px;\n",
              "  }\n",
              "\n",
              "  .colab-df-quickchart:hover {\n",
              "    background-color: var(--hover-bg-color);\n",
              "    box-shadow: 0 1px 2px rgba(60, 64, 67, 0.3), 0 1px 3px 1px rgba(60, 64, 67, 0.15);\n",
              "    fill: var(--button-hover-fill-color);\n",
              "  }\n",
              "\n",
              "  .colab-df-quickchart-complete:disabled,\n",
              "  .colab-df-quickchart-complete:disabled:hover {\n",
              "    background-color: var(--disabled-bg-color);\n",
              "    fill: var(--disabled-fill-color);\n",
              "    box-shadow: none;\n",
              "  }\n",
              "\n",
              "  .colab-df-spinner {\n",
              "    border: 2px solid var(--fill-color);\n",
              "    border-color: transparent;\n",
              "    border-bottom-color: var(--fill-color);\n",
              "    animation:\n",
              "      spin 1s steps(1) infinite;\n",
              "  }\n",
              "\n",
              "  @keyframes spin {\n",
              "    0% {\n",
              "      border-color: transparent;\n",
              "      border-bottom-color: var(--fill-color);\n",
              "      border-left-color: var(--fill-color);\n",
              "    }\n",
              "    20% {\n",
              "      border-color: transparent;\n",
              "      border-left-color: var(--fill-color);\n",
              "      border-top-color: var(--fill-color);\n",
              "    }\n",
              "    30% {\n",
              "      border-color: transparent;\n",
              "      border-left-color: var(--fill-color);\n",
              "      border-top-color: var(--fill-color);\n",
              "      border-right-color: var(--fill-color);\n",
              "    }\n",
              "    40% {\n",
              "      border-color: transparent;\n",
              "      border-right-color: var(--fill-color);\n",
              "      border-top-color: var(--fill-color);\n",
              "    }\n",
              "    60% {\n",
              "      border-color: transparent;\n",
              "      border-right-color: var(--fill-color);\n",
              "    }\n",
              "    80% {\n",
              "      border-color: transparent;\n",
              "      border-right-color: var(--fill-color);\n",
              "      border-bottom-color: var(--fill-color);\n",
              "    }\n",
              "    90% {\n",
              "      border-color: transparent;\n",
              "      border-bottom-color: var(--fill-color);\n",
              "    }\n",
              "  }\n",
              "</style>\n",
              "\n",
              "  <script>\n",
              "    async function quickchart(key) {\n",
              "      const quickchartButtonEl =\n",
              "        document.querySelector('#' + key + ' button');\n",
              "      quickchartButtonEl.disabled = true;  // To prevent multiple clicks.\n",
              "      quickchartButtonEl.classList.add('colab-df-spinner');\n",
              "      try {\n",
              "        const charts = await google.colab.kernel.invokeFunction(\n",
              "            'suggestCharts', [key], {});\n",
              "      } catch (error) {\n",
              "        console.error('Error during call to suggestCharts:', error);\n",
              "      }\n",
              "      quickchartButtonEl.classList.remove('colab-df-spinner');\n",
              "      quickchartButtonEl.classList.add('colab-df-quickchart-complete');\n",
              "    }\n",
              "    (() => {\n",
              "      let quickchartButtonEl =\n",
              "        document.querySelector('#df-c8bac0e4-4632-4870-9179-b03f62a1f240 button');\n",
              "      quickchartButtonEl.style.display =\n",
              "        google.colab.kernel.accessAllowed ? 'block' : 'none';\n",
              "    })();\n",
              "  </script>\n",
              "</div>\n",
              "\n",
              "    </div>\n",
              "  </div>\n"
            ],
            "application/vnd.google.colaboratory.intrinsic+json": {
              "type": "dataframe",
              "variable_name": "dataset",
              "summary": "{\n  \"name\": \"dataset\",\n  \"rows\": 545,\n  \"fields\": [\n    {\n      \"column\": \"price\",\n      \"properties\": {\n        \"dtype\": \"number\",\n        \"std\": 1870439,\n        \"min\": 1750000,\n        \"max\": 13300000,\n        \"num_unique_values\": 219,\n        \"samples\": [\n          2975000,\n          4235000,\n          4865000\n        ],\n        \"semantic_type\": \"\",\n        \"description\": \"\"\n      }\n    },\n    {\n      \"column\": \"area\",\n      \"properties\": {\n        \"dtype\": \"number\",\n        \"std\": 2170,\n        \"min\": 1650,\n        \"max\": 16200,\n        \"num_unique_values\": 284,\n        \"samples\": [\n          8100,\n          3635,\n          5360\n        ],\n        \"semantic_type\": \"\",\n        \"description\": \"\"\n      }\n    },\n    {\n      \"column\": \"bedrooms\",\n      \"properties\": {\n        \"dtype\": \"number\",\n        \"std\": 0,\n        \"min\": 1,\n        \"max\": 6,\n        \"num_unique_values\": 6,\n        \"samples\": [\n          2,\n          3,\n          6\n        ],\n        \"semantic_type\": \"\",\n        \"description\": \"\"\n      }\n    },\n    {\n      \"column\": \"bathrooms\",\n      \"properties\": {\n        \"dtype\": \"number\",\n        \"std\": 0,\n        \"min\": 1,\n        \"max\": 4,\n        \"num_unique_values\": 4,\n        \"samples\": [\n          2,\n          4,\n          1\n        ],\n        \"semantic_type\": \"\",\n        \"description\": \"\"\n      }\n    },\n    {\n      \"column\": \"stories\",\n      \"properties\": {\n        \"dtype\": \"number\",\n        \"std\": 0,\n        \"min\": 1,\n        \"max\": 4,\n        \"num_unique_values\": 4,\n        \"samples\": [\n          1,\n          4,\n          2\n        ],\n        \"semantic_type\": \"\",\n        \"description\": \"\"\n      }\n    },\n    {\n      \"column\": \"mainroad\",\n      \"properties\": {\n        \"dtype\": \"category\",\n        \"num_unique_values\": 2,\n        \"samples\": [\n          \"no\",\n          \"yes\"\n        ],\n        \"semantic_type\": \"\",\n        \"description\": \"\"\n      }\n    },\n    {\n      \"column\": \"guestroom\",\n      \"properties\": {\n        \"dtype\": \"category\",\n        \"num_unique_values\": 2,\n        \"samples\": [\n          \"yes\",\n          \"no\"\n        ],\n        \"semantic_type\": \"\",\n        \"description\": \"\"\n      }\n    },\n    {\n      \"column\": \"basement\",\n      \"properties\": {\n        \"dtype\": \"category\",\n        \"num_unique_values\": 2,\n        \"samples\": [\n          \"no\",\n          \"yes\"\n        ],\n        \"semantic_type\": \"\",\n        \"description\": \"\"\n      }\n    },\n    {\n      \"column\": \"hotwaterheating\",\n      \"properties\": {\n        \"dtype\": \"category\",\n        \"num_unique_values\": 2,\n        \"samples\": [\n          \"yes\",\n          \"no\"\n        ],\n        \"semantic_type\": \"\",\n        \"description\": \"\"\n      }\n    },\n    {\n      \"column\": \"airconditioning\",\n      \"properties\": {\n        \"dtype\": \"category\",\n        \"num_unique_values\": 2,\n        \"samples\": [\n          \"yes\",\n          \"no\"\n        ],\n        \"semantic_type\": \"\",\n        \"description\": \"\"\n      }\n    },\n    {\n      \"column\": \"parking\",\n      \"properties\": {\n        \"dtype\": \"number\",\n        \"std\": 0,\n        \"min\": 0,\n        \"max\": 3,\n        \"num_unique_values\": 4,\n        \"samples\": [\n          2,\n          1\n        ],\n        \"semantic_type\": \"\",\n        \"description\": \"\"\n      }\n    },\n    {\n      \"column\": \"prefarea\",\n      \"properties\": {\n        \"dtype\": \"category\",\n        \"num_unique_values\": 2,\n        \"samples\": [\n          \"yes\",\n          \"no\"\n        ],\n        \"semantic_type\": \"\",\n        \"description\": \"\"\n      }\n    },\n    {\n      \"column\": \"furnishingstatus\",\n      \"properties\": {\n        \"dtype\": \"category\",\n        \"num_unique_values\": 3,\n        \"samples\": [\n          \"semi-furnished\",\n          \"unfurnished\"\n        ],\n        \"semantic_type\": \"\",\n        \"description\": \"\"\n      }\n    }\n  ]\n}"
            }
          },
          "metadata": {},
          "execution_count": 54
        }
      ]
    },
    {
      "cell_type": "markdown",
      "source": [
        "We can visualize data between different features how one depends on other or how one feature changes with respect to other but it will not make any sense to predict prices. It just helps in becoming one with data."
      ],
      "metadata": {
        "id": "oYi6de_JSQHP"
      }
    },
    {
      "cell_type": "markdown",
      "source": [
        "# 3. Data Preprocessing"
      ],
      "metadata": {
        "id": "qflsL_ZBMU0E"
      }
    },
    {
      "cell_type": "markdown",
      "source": [
        "# Find and Filling missing values"
      ],
      "metadata": {
        "id": "0VEzJEC5Mucl"
      }
    },
    {
      "cell_type": "code",
      "source": [
        "missing_values = dataset.isnull().sum()\n",
        "print(missing_values)"
      ],
      "metadata": {
        "colab": {
          "base_uri": "https://localhost:8080/"
        },
        "id": "rCnevg58Mdl-",
        "outputId": "cd74e66d-434d-47b0-95f1-e1865e07f6db"
      },
      "execution_count": null,
      "outputs": [
        {
          "output_type": "stream",
          "name": "stdout",
          "text": [
            "price               0\n",
            "area                0\n",
            "bedrooms            0\n",
            "bathrooms           0\n",
            "stories             0\n",
            "mainroad            0\n",
            "guestroom           0\n",
            "basement            0\n",
            "hotwaterheating     0\n",
            "airconditioning     0\n",
            "parking             0\n",
            "prefarea            0\n",
            "furnishingstatus    0\n",
            "dtype: int64\n"
          ]
        }
      ]
    },
    {
      "cell_type": "markdown",
      "source": [
        "As there no any missing values in dataset we can skip this step."
      ],
      "metadata": {
        "id": "-ezx1KiVNbp7"
      }
    },
    {
      "cell_type": "markdown",
      "source": [
        "# Encoding data\n",
        "From our data we have categorical features and some label features. So that we should encode categorcal and label encoding in 2 steps."
      ],
      "metadata": {
        "id": "pT9lL0bGNyrR"
      }
    },
    {
      "cell_type": "code",
      "source": [
        "from sklearn.compose import ColumnTransformer\n",
        "from sklearn.preprocessing import OneHotEncoder\n",
        "from sklearn.preprocessing import LabelEncoder\n",
        "le=LabelEncoder()\n",
        "columns_to_encode = [4, 5, 6, 7, 8, 10]\n",
        "for column in columns_to_encode:\n",
        "    x[:, column] = le.fit_transform(x[:, column])\n",
        "ct=ColumnTransformer(transformers=[('encoder5',OneHotEncoder(),[11])],remainder='passthrough')\n",
        "x=np.array(ct.fit_transform(x))\n",
        "x=x.astype('float32') #make as tensors\n",
        "y=y.astype('float32')\n",
        "#let's observe any row how the dataset was encoded\n",
        "print(x[2])"
      ],
      "metadata": {
        "colab": {
          "base_uri": "https://localhost:8080/"
        },
        "id": "jaUtI2NBNQJV",
        "outputId": "856647a3-4224-4163-9000-9babcf83a776"
      },
      "execution_count": null,
      "outputs": [
        {
          "output_type": "stream",
          "name": "stdout",
          "text": [
            "[0.0e+00 1.0e+00 0.0e+00 6.1e+03 3.0e+00 1.0e+00 1.0e+00 1.0e+00 0.0e+00\n",
            " 1.0e+00 0.0e+00 1.0e+00 0.0e+00 1.0e+00]\n"
          ]
        }
      ]
    },
    {
      "cell_type": "markdown",
      "source": [
        "We can see that all the columns which required encoding occurs and area of house is in 3rd index."
      ],
      "metadata": {
        "id": "LqvN1i0VPe1o"
      }
    },
    {
      "cell_type": "markdown",
      "source": [
        "#Splitting into training and test set\n",
        "Let's split data so that 80% of data will be training set and remaining 20% will be testing set."
      ],
      "metadata": {
        "id": "wJIB4ZneP065"
      }
    },
    {
      "cell_type": "code",
      "source": [
        "from sklearn.model_selection import train_test_split\n",
        "x_train,x_test,y_train,y_test=train_test_split(x,y,test_size=0.2,random_state=0)\n",
        "#Let's check how data splitted\n",
        "print(x_train)\n",
        "print(y_train)"
      ],
      "metadata": {
        "colab": {
          "base_uri": "https://localhost:8080/"
        },
        "id": "fD1H5tIDPeB4",
        "outputId": "40d8b5fa-2994-426a-92bc-7bdc677b055d"
      },
      "execution_count": null,
      "outputs": [
        {
          "output_type": "stream",
          "name": "stdout",
          "text": [
            "[[0. 1. 0. ... 0. 0. 0.]\n",
            " [1. 0. 0. ... 1. 2. 0.]\n",
            " [0. 1. 0. ... 0. 0. 0.]\n",
            " ...\n",
            " [0. 1. 0. ... 0. 3. 0.]\n",
            " [0. 0. 1. ... 0. 0. 0.]\n",
            " [0. 1. 0. ... 0. 1. 0.]]\n",
            "[ 3710000.  8890000.  3360000.  8190000.  6650000.  3115000.  4165000.\n",
            "  3500000.  3465000.  2310000.  3087000.  6510000.  4830000.  6160000.\n",
            "  4193000.  2870000.  2660000.  3500000.  3780000.  5110000.  5950000.\n",
            "  6510000.  7962500.  1960000.  3500000.  3290000.  3640000.  2940000.\n",
            "  5943000.  5250000.  8463000.  4277000.  4305000.  6475000.  3220000.\n",
            "  4200000.  2275000.  7560000.  3080000.  5810000.  4340000.  4200000.\n",
            "  3500000.  2940000.  4480000.  5565000.  4550000.  3115000.  5215000.\n",
            "  8080940.  3430000.  7350000.  5075000.  3465000.  6615000.  2800000.\n",
            "  3360000.  6755000.  2870000.  3143000.  4900000.  4900000.  3675000.\n",
            "  5600000.  3360000.  7210000.  3500000.  5250000.  6090000.  8645000.\n",
            "  4007500.  2800000.  5873000.  3493000.  6405000.  6650000.  4200000.\n",
            "  3220000.  4515000.  4403000.  3850000.  3500000.  9100000.  4550000.\n",
            "  4900000.  6930000.  3010000.  3640000.  2450000.  7350000.  5950000.\n",
            "  5810000.  3885000.  5600000.  3773000.  5600000.  9240000.  3430000.\n",
            "  4473000.  3836000.  5866000.  3010000.  2275000.  4060000.  1855000.\n",
            "  7420000.  5460000. 13300000.  3850000.  4830000.  8043000.  2520000.\n",
            "  5880000.  4550000.  6720000.  6440000.  5250000.  4753000.  4620000.\n",
            "  2835000.  8540000.  4200000.  4760000.  4130000.  3220000.  4270000.\n",
            "  6293000.  4760000.  5285000.  4270000.  2450000.  4585000.  6440000.\n",
            "  3360000.  6090000.  3710000.  2961000.  2660000.  4200000.  8400000.\n",
            "  5383000. 12250000.  3360000.  3990000.  4305000.  4550000. 12215000.\n",
            "  6107500.  3129000.  2100000.  4690000.  1767150.  4795000.  4900000.\n",
            "  6685000.  6300000.  5040000.  7350000.  4795000.  2940000.  5040000.\n",
            "  3010000.  7700000.  6300000.  5110000.  3220000.  4340000.  5250000.\n",
            "  4200000.  6195000.  5425000.  3500000.  4200000.  4585000.  3675000.\n",
            "  4515000.  5652500.  4690000.  4270000.  1750000.  5565000.  4095000.\n",
            "  8400000.  4165000.  5495000.  3430000.  9870000.  3360000.  4060000.\n",
            "  6419000.  4970000.  5040000.  2660000.  4025000.  8400000.  3010000.\n",
            "  3234000.  3423000.  2450000.  3920000.  5110000.  2975000.  7840000.\n",
            "  5530000.  3920000.  3990000.  5040000.  4830000.  6650000.  6125000.\n",
            "  3150000.  5250000.  2590000.  5950000.  3500000.  3885000.  2520000.\n",
            "  2485000.  2660000.  3850000.  3290000.  3640000.  2870000.  2730000.\n",
            "  7343000.  4235000.  3010000.  7070000.  6083000.  4025000.  4340000.\n",
            "  4900000.  6020000.  3780000.  5005000.  4515000.  6510000.  3430000.\n",
            "  4200000.  4480000.  4060000.  4893000.  4480000.  3395000.  3535000.\n",
            "  3710000.  2835000.  6020000.  6300000.  2695000.  3118850.  4550000.\n",
            "  3570000.  2940000.  2653000.  2730000.  3290000.  4550000.  2520000.\n",
            "  4620000.  2940000.  3773000.  6300000.  5950000.  3570000.  5950000.\n",
            "  4935000.  4095000.  5740000.  4543000.  4900000. 10150000.  2450000.\n",
            "  8750000.  3920000.  3150000.  3640000.  3990000.  3003000.  6083000.\n",
            "  4907000.  4200000.  3500000.  3290000.  4515000.  7875000.  3780000.\n",
            "  3850000.  5600000.  3115000.  4200000.  2590000.  3850000.  5803000.\n",
            "  7245000.  4865000.  5523000.  5320000.  3255000.  4340000.  5460000.\n",
            "  2100000.  7420000.  4200000.  4200000.  4270000.  5250000.  4893000.\n",
            "  3150000.  1820000.  9800000.  3290000.  2653000.  8120000.  3080000.\n",
            "  4690000.  3500000.  4690000.  8400000.  4480000.  2660000.  5950000.\n",
            "  3325000.  4620000.  3290000.  2380000.  7455000.  4165000.  2450000.\n",
            "  3850000.  4270000.  4200000.  8960000.  4410000.  3353000.  3920000.\n",
            "  4123000.  5460000.  2660000.  5033000.  3500000.  3703000.  3395000.\n",
            "  8855000.  3290000.  3570000.  3710000.  6629000.  5530000.  4900000.\n",
            "  4382000.  2380000.  6790000.  7560000.  5243000.  3640000.  6580000.\n",
            "  2100000.  3990000.  6650000.  4270000.  3710000.  4319000.  4200000.\n",
            "  5950000.  2135000.  6090000.  2660000.  5460000.  3010000.  2940000.\n",
            "  7700000.  3773000.  3360000.  6195000.  4480000.  5880000.  3255000.\n",
            "  4760000.  4235000.  9681000.  4340000.  3850000.  4613000.  5740000.\n",
            "  2233000.  3150000.  3780000.  3500000.  4900000.  3500000.  4900000.\n",
            "  5600000.  8645000.  4445000.  3465000.  5229000.  5740000.  3675000.\n",
            "  5250000.  4375000.  5600000.  7210000.  3920000.  4550000.  5530000.\n",
            "  3045000.  4200000.  3010000.  2940000.  5600000.  2408000.  4830000.\n",
            "  4655000.  5600000.  3640000.  4900000. 11410000.  4095000.  6615000.\n",
            "  3150000.  4200000.  3430000.  4690000.  4620000.  6160000.  7910000.\n",
            "  7070000.  4007500.  3395000.  2240000.  2835000.  5250000.  4193000.\n",
            "  2852500.  3500000.]\n"
          ]
        }
      ]
    },
    {
      "cell_type": "markdown",
      "source": [
        "We can see that data is not in certain order.... it mean the data is splitted in random."
      ],
      "metadata": {
        "id": "4fsZAgeMRUdW"
      }
    },
    {
      "cell_type": "markdown",
      "source": [
        "#Feature Scaling\n",
        "Let's normalize the dependent variable (price) and area feature in independent variables. Because these are having unique numerical values and by normalizing them model may understand better patterns between them."
      ],
      "metadata": {
        "id": "3vVGFiyORhrD"
      }
    },
    {
      "cell_type": "code",
      "source": [
        "from sklearn.preprocessing import MinMaxScaler\n",
        "sc=MinMaxScaler()\n",
        "x_train[:,3]=sc.fit_transform((x_train[:,3]).reshape(-1,1)).flatten()\n",
        "x_test[:,3]=sc.transform((x_test[:,3]).reshape(-1,1)).flatten()\n",
        "y_train=sc.fit_transform(y_train.reshape(-1,1))\n",
        "y_test=sc.transform(y_test.reshape(-1,1))\n",
        "print(x_train[:,3])\n",
        "print(y_train)"
      ],
      "metadata": {
        "colab": {
          "base_uri": "https://localhost:8080/"
        },
        "id": "dJud0zkARgWn",
        "outputId": "5254751b-8d81-4394-ce96-dba9da93a387"
      },
      "execution_count": null,
      "outputs": [
        {
          "output_type": "stream",
          "name": "stdout",
          "text": [
            "[0.11745363 0.18852744 0.21371108 0.2836656  0.31584468 0.11157747\n",
            " 0.20531654 0.16334382 0.01678908 0.08919202 0.4333683  0.44386145\n",
            " 0.15774745 0.181532   0.10807975 0.07939838 0.00664568 0.772228\n",
            " 0.11857292 0.6649178  0.12556836 0.3333333  0.2864638  0.1059811\n",
            " 0.14585519 0.29066107 0.07660021 0.11857292 0.95802724 0.13256383\n",
            " 0.2864638  0.10458201 0.17453653 0.14375654 0.08499475 0.3564183\n",
            " 0.14445609 0.2864638  0.21371108 0.20251834 0.31794333 0.01678908\n",
            " 0.11857292 0.3294858  0.44386145 0.17453653 0.11297655 0.13606155\n",
            " 0.08919202 0.3564183  0.14655474 0.2864638  0.26687652 0.2388947\n",
            " 0.6012591  0.05211611 0.12906611 0.2864638  0.24449107 0.181532\n",
            " 0.2724729  0.24449107 0.12067154 0.20251834 0.12696746 0.2864638\n",
            " 0.27806923 0.2374956  0.3294858  0.42987058 0.10877928 0.14375654\n",
            " 0.66841555 0.20951381 0.20251834 0.26547742 0.2724729  0.1724379\n",
            " 0.11227702 0.21091288 0.13606155 0.38090238 0.2864638  0.12137109\n",
            " 0.07450156 0.79013634 0.09338929 0.15564883 0.20531654 0.2864638\n",
            " 0.3578174  0.27443162 0.08919202 0.31164742 0.04302202 0.6012591\n",
            " 0.41238192 0.01678908 0.31164742 0.10108429 0.20251834 0.08289611\n",
            " 0.14445609 0.27946833 0.07590066 0.3871983  0.30115423 0.3857992\n",
            " 0.2374956  0.3467646  0.3901364  0.08919202 0.32144105 0.2416929\n",
            " 0.21790835 0.46694645 0.4627492  0.31724378 0.15774745 0.05141658\n",
            " 0.32423922 0.0293809  0.5079398  0.19076598 0.05449457 0.4102833\n",
            " 0.3284365  0.3089192  0.18852744 0.31164742 0.09129065 0.135362\n",
            " 0.21650925 0.11157747 0.45239595 0.11857292 0.07660021 0.14193773\n",
            " 0.15208113 0.38964674 0.31794333 0.5634837  0.08359565 0.32004195\n",
            " 0.5914655  0.2388947  0.3913956  0.09338929 0.25113675 0.07660021\n",
            " 0.16894019 0.03462748 0.4333683  0.30745015 0.3284365  0.15355018\n",
            " 0.11437565 0.22700244 0.3564183  0.2759706  0.39839104 0.12067154\n",
            " 0.32004195 0.37040922 0.29345924 0.16894019 0.181532   0.16474292\n",
            " 0.2514865  0.2514865  0.34417626 0.5313046  0.12137109 0.14655474\n",
            " 0.26128015 0.10807975 0.33263376 0.22840151 0.01888771 0.11997202\n",
            " 0.24449107 0.25848198 0.2514865  0.14977264 0.06379852 0.08954179\n",
            " 0.4333683  0.08954179 0.17033926 0.33892968 0.4044071  0.3284365\n",
            " 0.14655474 0.12067154 0.48758307 0.22182581 0.12137109 0.14935291\n",
            " 0.09338929 0.2514865  0.07660021 0.17117873 0.31164742 0.29345924\n",
            " 0.09688702 0.15005246 0.6152501  0.20356768 0.14935291 0.31584468\n",
            " 0.10807975 0.32423922 0.11857292 0.37880376 0.01608953 0.13116473\n",
            " 0.06820565 0.17453653 0.03672612 0.00769499 0.04162294 0.02588317\n",
            " 0.12067154 0.3424274  0.6670164  0.06169988 0.06505771 0.48793283\n",
            " 0.5396992  0.10877928 0.         0.15320042 0.42637286 0.45435467\n",
            " 0.43686602 0.11297655 0.12976563 0.13606155 0.21930742 0.14655474\n",
            " 0.07660021 0.1059811  0.14935291 0.12137109 0.13606155 0.28786287\n",
            " 0.1710388  0.34942287 0.49632737 0.14655474 0.03448758 0.04512067\n",
            " 0.12137109 0.05561385 0.08954179 0.14655474 0.11017838 0.12976563\n",
            " 0.07660021 0.1381602  0.21371108 0.44386145 0.2864638  0.37257782\n",
            " 0.181532   0.32423922 0.28282616 0.12416929 0.21650925 0.15355018\n",
            " 0.19174534 1.         0.11157747 0.16894019 0.37460646 0.14557537\n",
            " 0.08919202 0.15355018 0.42987058 0.16754109 0.16054565 0.2759706\n",
            " 0.12207064 0.01678908 0.5564883  0.32493877 0.06652676 0.3670514\n",
            " 0.2514865  0.07660021 0.05890171 0.17453653 0.15215108 0.3564183\n",
            " 0.49632737 0.1710388  0.34942287 0.41238192 0.181532   0.11157747\n",
            " 0.29345924 0.10178383 0.3871983  0.11297655 0.07331234 0.17173836\n",
            " 0.2514865  0.2161595  0.08142707 0.07660021 0.26897514 0.14935291\n",
            " 0.14655474 0.34522557 0.0178384  0.542987   0.11017838 0.12067154\n",
            " 0.3564183  0.18223155 0.12067154 0.31584468 0.20076948 0.26407835\n",
            " 0.1320042  0.03987408 0.16754109 0.15215108 0.07660021 0.08919202\n",
            " 0.181532   0.14655474 0.4613501  0.20951381 0.05561385 0.07660021\n",
            " 0.29066107 0.3284365  0.0626093  0.20251834 0.38607904 0.08499475\n",
            " 0.20146903 0.31584468 0.27806923 0.181532   0.15005246 0.2864638\n",
            " 0.12207064 0.76915    0.21301153 0.06169988 0.14655474 0.2864638\n",
            " 0.28996152 0.2836656  0.2864638  0.03462748 0.181532   0.32144105\n",
            " 0.31164742 0.14935291 0.14879328 0.04931794 0.30423224 0.07660021\n",
            " 0.3284365  0.11017838 0.08709338 0.18852744 0.12277019 0.2864638\n",
            " 0.3515215  0.19902062 0.2514865  0.27841902 0.36761102 0.14165792\n",
            " 0.583071   0.3319342  0.2864638  0.15180132 0.01895767 0.18223155\n",
            " 0.19132563 0.2374956  0.15320042 0.20391744 0.27946833 0.33683103\n",
            " 0.07911856 0.07660021 0.3284365  0.18572927 0.12906611 0.08079748\n",
            " 0.36236444 0.31164742 0.12067154 0.45435467 0.13955927 0.22602308\n",
            " 0.40398738 0.13368309 0.45435467 0.09758656 0.13256383 0.17523608\n",
            " 0.12906611 0.11017838 0.6012591  0.12102133 0.28926197 0.12871632\n",
            " 0.21650925 0.06610702 0.1829311  0.3857992  0.14935291 0.14655474\n",
            " 0.33892968 0.181532   0.04931794 0.2864638  0.2172088  0.24798879\n",
            " 0.2864638  0.30325288 0.181532   0.10807975 0.00314794 0.09758656\n",
            " 0.55229104 0.44386145 0.23050016 0.12137109]\n",
            "[[0.16969696]\n",
            " [0.6181818 ]\n",
            " [0.13939393]\n",
            " [0.5575757 ]\n",
            " [0.4242424 ]\n",
            " [0.11818182]\n",
            " [0.20909092]\n",
            " [0.15151516]\n",
            " [0.14848486]\n",
            " [0.04848485]\n",
            " [0.11575758]\n",
            " [0.4121212 ]\n",
            " [0.26666665]\n",
            " [0.3818182 ]\n",
            " [0.21151516]\n",
            " [0.09696969]\n",
            " [0.07878788]\n",
            " [0.15151516]\n",
            " [0.17575759]\n",
            " [0.29090908]\n",
            " [0.36363634]\n",
            " [0.4121212 ]\n",
            " [0.53787875]\n",
            " [0.01818182]\n",
            " [0.15151516]\n",
            " [0.13333333]\n",
            " [0.16363636]\n",
            " [0.10303029]\n",
            " [0.36303028]\n",
            " [0.3030303 ]\n",
            " [0.58121216]\n",
            " [0.21878788]\n",
            " [0.22121212]\n",
            " [0.4090909 ]\n",
            " [0.12727273]\n",
            " [0.21212122]\n",
            " [0.04545455]\n",
            " [0.5030303 ]\n",
            " [0.11515152]\n",
            " [0.35151514]\n",
            " [0.22424242]\n",
            " [0.21212122]\n",
            " [0.15151516]\n",
            " [0.10303029]\n",
            " [0.23636362]\n",
            " [0.33030304]\n",
            " [0.24242425]\n",
            " [0.11818182]\n",
            " [0.3       ]\n",
            " [0.5481334 ]\n",
            " [0.14545456]\n",
            " [0.48484847]\n",
            " [0.28787878]\n",
            " [0.14848486]\n",
            " [0.4212121 ]\n",
            " [0.09090909]\n",
            " [0.13939393]\n",
            " [0.4333333 ]\n",
            " [0.09696969]\n",
            " [0.12060606]\n",
            " [0.27272728]\n",
            " [0.27272728]\n",
            " [0.16666666]\n",
            " [0.33333334]\n",
            " [0.13939393]\n",
            " [0.47272727]\n",
            " [0.15151516]\n",
            " [0.3030303 ]\n",
            " [0.37575755]\n",
            " [0.5969697 ]\n",
            " [0.19545454]\n",
            " [0.09090909]\n",
            " [0.35696968]\n",
            " [0.1509091 ]\n",
            " [0.4030303 ]\n",
            " [0.4242424 ]\n",
            " [0.21212122]\n",
            " [0.12727273]\n",
            " [0.23939395]\n",
            " [0.22969696]\n",
            " [0.18181819]\n",
            " [0.15151516]\n",
            " [0.6363636 ]\n",
            " [0.24242425]\n",
            " [0.27272728]\n",
            " [0.44848487]\n",
            " [0.10909089]\n",
            " [0.16363636]\n",
            " [0.06060606]\n",
            " [0.48484847]\n",
            " [0.36363634]\n",
            " [0.35151514]\n",
            " [0.18484849]\n",
            " [0.33333334]\n",
            " [0.17515153]\n",
            " [0.33333334]\n",
            " [0.6484848 ]\n",
            " [0.14545456]\n",
            " [0.23575756]\n",
            " [0.18060607]\n",
            " [0.35636362]\n",
            " [0.10909089]\n",
            " [0.04545455]\n",
            " [0.19999999]\n",
            " [0.0090909 ]\n",
            " [0.49090907]\n",
            " [0.3212121 ]\n",
            " [1.        ]\n",
            " [0.18181819]\n",
            " [0.26666665]\n",
            " [0.54484844]\n",
            " [0.06666666]\n",
            " [0.35757574]\n",
            " [0.24242425]\n",
            " [0.430303  ]\n",
            " [0.4060606 ]\n",
            " [0.3030303 ]\n",
            " [0.26      ]\n",
            " [0.24848485]\n",
            " [0.09393939]\n",
            " [0.5878788 ]\n",
            " [0.21212122]\n",
            " [0.26060605]\n",
            " [0.20606062]\n",
            " [0.12727273]\n",
            " [0.21818182]\n",
            " [0.39333335]\n",
            " [0.26060605]\n",
            " [0.3060606 ]\n",
            " [0.21818182]\n",
            " [0.06060606]\n",
            " [0.24545455]\n",
            " [0.4060606 ]\n",
            " [0.13939393]\n",
            " [0.37575755]\n",
            " [0.16969696]\n",
            " [0.10484847]\n",
            " [0.07878788]\n",
            " [0.21212122]\n",
            " [0.5757576 ]\n",
            " [0.31454545]\n",
            " [0.909091  ]\n",
            " [0.13939393]\n",
            " [0.19393939]\n",
            " [0.22121212]\n",
            " [0.24242425]\n",
            " [0.9060607 ]\n",
            " [0.37727275]\n",
            " [0.11939394]\n",
            " [0.03030303]\n",
            " [0.25454545]\n",
            " [0.00148484]\n",
            " [0.26363635]\n",
            " [0.27272728]\n",
            " [0.4272727 ]\n",
            " [0.3939394 ]\n",
            " [0.28484848]\n",
            " [0.48484847]\n",
            " [0.26363635]\n",
            " [0.10303029]\n",
            " [0.28484848]\n",
            " [0.10909089]\n",
            " [0.5151515 ]\n",
            " [0.3939394 ]\n",
            " [0.29090908]\n",
            " [0.12727273]\n",
            " [0.22424242]\n",
            " [0.3030303 ]\n",
            " [0.21212122]\n",
            " [0.3848485 ]\n",
            " [0.3181818 ]\n",
            " [0.15151516]\n",
            " [0.21212122]\n",
            " [0.24545455]\n",
            " [0.16666666]\n",
            " [0.23939395]\n",
            " [0.3378788 ]\n",
            " [0.25454545]\n",
            " [0.21818182]\n",
            " [0.        ]\n",
            " [0.33030304]\n",
            " [0.20303029]\n",
            " [0.5757576 ]\n",
            " [0.20909092]\n",
            " [0.3242424 ]\n",
            " [0.14545456]\n",
            " [0.70303035]\n",
            " [0.13939393]\n",
            " [0.19999999]\n",
            " [0.40424243]\n",
            " [0.27878788]\n",
            " [0.28484848]\n",
            " [0.07878788]\n",
            " [0.19696969]\n",
            " [0.5757576 ]\n",
            " [0.10909089]\n",
            " [0.12848485]\n",
            " [0.1448485 ]\n",
            " [0.06060606]\n",
            " [0.18787879]\n",
            " [0.29090908]\n",
            " [0.10606059]\n",
            " [0.5272727 ]\n",
            " [0.3272727 ]\n",
            " [0.18787879]\n",
            " [0.19393939]\n",
            " [0.28484848]\n",
            " [0.26666665]\n",
            " [0.4242424 ]\n",
            " [0.3787879 ]\n",
            " [0.12121212]\n",
            " [0.3030303 ]\n",
            " [0.07272726]\n",
            " [0.36363634]\n",
            " [0.15151516]\n",
            " [0.18484849]\n",
            " [0.06666666]\n",
            " [0.06363636]\n",
            " [0.07878788]\n",
            " [0.18181819]\n",
            " [0.13333333]\n",
            " [0.16363636]\n",
            " [0.09696969]\n",
            " [0.08484848]\n",
            " [0.4842424 ]\n",
            " [0.21515152]\n",
            " [0.10909089]\n",
            " [0.46060607]\n",
            " [0.3751515 ]\n",
            " [0.19696969]\n",
            " [0.22424242]\n",
            " [0.27272728]\n",
            " [0.36969694]\n",
            " [0.17575759]\n",
            " [0.28181818]\n",
            " [0.23939395]\n",
            " [0.4121212 ]\n",
            " [0.14545456]\n",
            " [0.21212122]\n",
            " [0.23636362]\n",
            " [0.19999999]\n",
            " [0.27212122]\n",
            " [0.23636362]\n",
            " [0.14242423]\n",
            " [0.15454546]\n",
            " [0.16969696]\n",
            " [0.09393939]\n",
            " [0.36969694]\n",
            " [0.3939394 ]\n",
            " [0.08181818]\n",
            " [0.11851513]\n",
            " [0.24242425]\n",
            " [0.15757576]\n",
            " [0.10303029]\n",
            " [0.07818182]\n",
            " [0.08484848]\n",
            " [0.13333333]\n",
            " [0.24242425]\n",
            " [0.06666666]\n",
            " [0.24848485]\n",
            " [0.10303029]\n",
            " [0.17515153]\n",
            " [0.3939394 ]\n",
            " [0.36363634]\n",
            " [0.15757576]\n",
            " [0.36363634]\n",
            " [0.27575758]\n",
            " [0.20303029]\n",
            " [0.34545454]\n",
            " [0.24181819]\n",
            " [0.27272728]\n",
            " [0.72727275]\n",
            " [0.06060606]\n",
            " [0.6060606 ]\n",
            " [0.18787879]\n",
            " [0.12121212]\n",
            " [0.16363636]\n",
            " [0.19393939]\n",
            " [0.10848483]\n",
            " [0.3751515 ]\n",
            " [0.27333334]\n",
            " [0.21212122]\n",
            " [0.15151516]\n",
            " [0.13333333]\n",
            " [0.23939395]\n",
            " [0.530303  ]\n",
            " [0.17575759]\n",
            " [0.18181819]\n",
            " [0.33333334]\n",
            " [0.11818182]\n",
            " [0.21212122]\n",
            " [0.07272726]\n",
            " [0.18181819]\n",
            " [0.35090908]\n",
            " [0.47575757]\n",
            " [0.26969698]\n",
            " [0.32666665]\n",
            " [0.3090909 ]\n",
            " [0.13030303]\n",
            " [0.22424242]\n",
            " [0.3212121 ]\n",
            " [0.03030303]\n",
            " [0.49090907]\n",
            " [0.21212122]\n",
            " [0.21212122]\n",
            " [0.21818182]\n",
            " [0.3030303 ]\n",
            " [0.27212122]\n",
            " [0.12121212]\n",
            " [0.0060606 ]\n",
            " [0.69696975]\n",
            " [0.13333333]\n",
            " [0.07818182]\n",
            " [0.5515151 ]\n",
            " [0.11515152]\n",
            " [0.25454545]\n",
            " [0.15151516]\n",
            " [0.25454545]\n",
            " [0.5757576 ]\n",
            " [0.23636362]\n",
            " [0.07878788]\n",
            " [0.36363634]\n",
            " [0.13636363]\n",
            " [0.24848485]\n",
            " [0.13333333]\n",
            " [0.05454545]\n",
            " [0.49393937]\n",
            " [0.20909092]\n",
            " [0.06060606]\n",
            " [0.18181819]\n",
            " [0.21818182]\n",
            " [0.21212122]\n",
            " [0.6242424 ]\n",
            " [0.23030302]\n",
            " [0.13878787]\n",
            " [0.18787879]\n",
            " [0.20545453]\n",
            " [0.3212121 ]\n",
            " [0.07878788]\n",
            " [0.28424242]\n",
            " [0.15151516]\n",
            " [0.1690909 ]\n",
            " [0.14242423]\n",
            " [0.6151515 ]\n",
            " [0.13333333]\n",
            " [0.15757576]\n",
            " [0.16969696]\n",
            " [0.42242423]\n",
            " [0.3272727 ]\n",
            " [0.27272728]\n",
            " [0.22787878]\n",
            " [0.05454545]\n",
            " [0.4363636 ]\n",
            " [0.5030303 ]\n",
            " [0.30242425]\n",
            " [0.16363636]\n",
            " [0.4181818 ]\n",
            " [0.03030303]\n",
            " [0.19393939]\n",
            " [0.4242424 ]\n",
            " [0.21818182]\n",
            " [0.16969696]\n",
            " [0.22242424]\n",
            " [0.21212122]\n",
            " [0.36363634]\n",
            " [0.03333333]\n",
            " [0.37575755]\n",
            " [0.07878788]\n",
            " [0.3212121 ]\n",
            " [0.10909089]\n",
            " [0.10303029]\n",
            " [0.5151515 ]\n",
            " [0.17515153]\n",
            " [0.13939393]\n",
            " [0.3848485 ]\n",
            " [0.23636362]\n",
            " [0.35757574]\n",
            " [0.13030303]\n",
            " [0.26060605]\n",
            " [0.21515152]\n",
            " [0.6866666 ]\n",
            " [0.22424242]\n",
            " [0.18181819]\n",
            " [0.24787879]\n",
            " [0.34545454]\n",
            " [0.04181817]\n",
            " [0.12121212]\n",
            " [0.17575759]\n",
            " [0.15151516]\n",
            " [0.27272728]\n",
            " [0.15151516]\n",
            " [0.27272728]\n",
            " [0.33333334]\n",
            " [0.5969697 ]\n",
            " [0.23333332]\n",
            " [0.14848486]\n",
            " [0.30121213]\n",
            " [0.34545454]\n",
            " [0.16666666]\n",
            " [0.3030303 ]\n",
            " [0.22727272]\n",
            " [0.33333334]\n",
            " [0.47272727]\n",
            " [0.18787879]\n",
            " [0.24242425]\n",
            " [0.3272727 ]\n",
            " [0.11212119]\n",
            " [0.21212122]\n",
            " [0.10909089]\n",
            " [0.10303029]\n",
            " [0.33333334]\n",
            " [0.05696969]\n",
            " [0.26666665]\n",
            " [0.25151515]\n",
            " [0.33333334]\n",
            " [0.16363636]\n",
            " [0.27272728]\n",
            " [0.8363637 ]\n",
            " [0.20303029]\n",
            " [0.4212121 ]\n",
            " [0.12121212]\n",
            " [0.21212122]\n",
            " [0.14545456]\n",
            " [0.25454545]\n",
            " [0.24848485]\n",
            " [0.3818182 ]\n",
            " [0.5333333 ]\n",
            " [0.46060607]\n",
            " [0.19545454]\n",
            " [0.14242423]\n",
            " [0.04242423]\n",
            " [0.09393939]\n",
            " [0.3030303 ]\n",
            " [0.21151516]\n",
            " [0.09545454]\n",
            " [0.15151516]]\n"
          ]
        }
      ]
    },
    {
      "cell_type": "markdown",
      "source": [
        "So, the price and area were normalized into values between 0 and 1."
      ],
      "metadata": {
        "id": "r0PnblVTTUlp"
      }
    },
    {
      "cell_type": "markdown",
      "source": [
        "#4. Selection of model\n",
        "Hense this prices of house mainly depends on different independent features so let's select a regression model. It depends on many features so multiple regression model will be the best. But let's try it with deep learning models because there any many observations in our dataset. Deep nueral networks models will be the best approach for this problem."
      ],
      "metadata": {
        "id": "5SiKDPciVGjZ"
      }
    },
    {
      "cell_type": "markdown",
      "source": [
        "#5. Build a model\n"
      ],
      "metadata": {
        "id": "k2pcvtCNZH4x"
      }
    },
    {
      "cell_type": "markdown",
      "source": [
        "**Create model:** In regression problems use activation function as ReLU for input and hidden layers. For output layer we can use ReLU or linear but it depends. If our model contains negative values as output we can use ReLU. But all the outputs of our model are positive so better to use linear activation function."
      ],
      "metadata": {
        "id": "Z028KV1_ZAIs"
      }
    },
    {
      "cell_type": "code",
      "source": [
        "tf.random.set_seed(42)\n",
        "model=tf.keras.Sequential([tf.keras.layers.Dense(100,activation='relu',input_shape=[14]),\n",
        "                            tf.keras.layers.Dense(10,activation='relu'),\n",
        "                            tf.keras.layers.Dense(1,activation='linear')])\n",
        "model.summary()"
      ],
      "metadata": {
        "colab": {
          "base_uri": "https://localhost:8080/"
        },
        "id": "KWPZ7CgsVGEm",
        "outputId": "7408d235-732d-493f-e7fb-dbf0e05ce1a1"
      },
      "execution_count": null,
      "outputs": [
        {
          "output_type": "stream",
          "name": "stdout",
          "text": [
            "Model: \"sequential_4\"\n",
            "_________________________________________________________________\n",
            " Layer (type)                Output Shape              Param #   \n",
            "=================================================================\n",
            " dense_12 (Dense)            (None, 100)               1500      \n",
            "                                                                 \n",
            " dense_13 (Dense)            (None, 10)                1010      \n",
            "                                                                 \n",
            " dense_14 (Dense)            (None, 1)                 11        \n",
            "                                                                 \n",
            "=================================================================\n",
            "Total params: 2521 (9.85 KB)\n",
            "Trainable params: 2521 (9.85 KB)\n",
            "Non-trainable params: 0 (0.00 Byte)\n",
            "_________________________________________________________________\n"
          ]
        }
      ]
    },
    {
      "cell_type": "markdown",
      "source": [
        "Here we can see summary of model that how model constructed and no.of hidden layers and parameters...etc.\n"
      ],
      "metadata": {
        "id": "h8sPQeT6ZWRQ"
      }
    },
    {
      "cell_type": "markdown",
      "source": [
        "**Compile Model:**\n",
        "For regression problems use optimizers as Adam od RMSprop so that learning rate will change as per data aptterns to train model."
      ],
      "metadata": {
        "id": "_7HgAtyHZkdj"
      }
    },
    {
      "cell_type": "code",
      "source": [
        "model.compile(loss=tf.keras.losses.mse,\n",
        "                optimizer=tf.keras.optimizers.RMSprop(learning_rate=0.01),\n",
        "                metrics=['mse'])"
      ],
      "metadata": {
        "id": "4InkIyArZiwO"
      },
      "execution_count": null,
      "outputs": []
    },
    {
      "cell_type": "markdown",
      "source": [
        "**Fit Model:** Train model for 30 epochs or more and ensure to add validation data for better vizualisation so that trained model can evaluate test set simultaneously."
      ],
      "metadata": {
        "id": "nsptJAc-aqt-"
      }
    },
    {
      "cell_type": "code",
      "source": [
        "model_history=model.fit(x_train,y_train,epochs=30,validation_data=[x_test,y_test])"
      ],
      "metadata": {
        "colab": {
          "base_uri": "https://localhost:8080/"
        },
        "id": "CaVHJ6nCbC7i",
        "outputId": "5af8087f-9f1e-4701-f600-ffb303c73d1f"
      },
      "execution_count": null,
      "outputs": [
        {
          "output_type": "stream",
          "name": "stdout",
          "text": [
            "Epoch 1/30\n",
            "14/14 [==============================] - 1s 15ms/step - loss: 0.0694 - mse: 0.0694 - val_loss: 0.0169 - val_mse: 0.0169\n",
            "Epoch 2/30\n",
            "14/14 [==============================] - 0s 4ms/step - loss: 0.0153 - mse: 0.0153 - val_loss: 0.0151 - val_mse: 0.0151\n",
            "Epoch 3/30\n",
            "14/14 [==============================] - 0s 5ms/step - loss: 0.0158 - mse: 0.0158 - val_loss: 0.0126 - val_mse: 0.0126\n",
            "Epoch 4/30\n",
            "14/14 [==============================] - 0s 5ms/step - loss: 0.0167 - mse: 0.0167 - val_loss: 0.0124 - val_mse: 0.0124\n",
            "Epoch 5/30\n",
            "14/14 [==============================] - 0s 4ms/step - loss: 0.0125 - mse: 0.0125 - val_loss: 0.0208 - val_mse: 0.0208\n",
            "Epoch 6/30\n",
            "14/14 [==============================] - 0s 6ms/step - loss: 0.0142 - mse: 0.0142 - val_loss: 0.0121 - val_mse: 0.0121\n",
            "Epoch 7/30\n",
            "14/14 [==============================] - 0s 5ms/step - loss: 0.0115 - mse: 0.0115 - val_loss: 0.0159 - val_mse: 0.0159\n",
            "Epoch 8/30\n",
            "14/14 [==============================] - 0s 5ms/step - loss: 0.0125 - mse: 0.0125 - val_loss: 0.0209 - val_mse: 0.0209\n",
            "Epoch 9/30\n",
            "14/14 [==============================] - 0s 5ms/step - loss: 0.0115 - mse: 0.0115 - val_loss: 0.0180 - val_mse: 0.0180\n",
            "Epoch 10/30\n",
            "14/14 [==============================] - 0s 4ms/step - loss: 0.0116 - mse: 0.0116 - val_loss: 0.0103 - val_mse: 0.0103\n",
            "Epoch 11/30\n",
            "14/14 [==============================] - 0s 5ms/step - loss: 0.0106 - mse: 0.0106 - val_loss: 0.0103 - val_mse: 0.0103\n",
            "Epoch 12/30\n",
            "14/14 [==============================] - 0s 5ms/step - loss: 0.0104 - mse: 0.0104 - val_loss: 0.0188 - val_mse: 0.0188\n",
            "Epoch 13/30\n",
            "14/14 [==============================] - 0s 4ms/step - loss: 0.0114 - mse: 0.0114 - val_loss: 0.0101 - val_mse: 0.0101\n",
            "Epoch 14/30\n",
            "14/14 [==============================] - 0s 4ms/step - loss: 0.0098 - mse: 0.0098 - val_loss: 0.0101 - val_mse: 0.0101\n",
            "Epoch 15/30\n",
            "14/14 [==============================] - 0s 5ms/step - loss: 0.0103 - mse: 0.0103 - val_loss: 0.0134 - val_mse: 0.0134\n",
            "Epoch 16/30\n",
            "14/14 [==============================] - 0s 4ms/step - loss: 0.0091 - mse: 0.0091 - val_loss: 0.0152 - val_mse: 0.0152\n",
            "Epoch 17/30\n",
            "14/14 [==============================] - 0s 4ms/step - loss: 0.0106 - mse: 0.0106 - val_loss: 0.0134 - val_mse: 0.0134\n",
            "Epoch 18/30\n",
            "14/14 [==============================] - 0s 5ms/step - loss: 0.0092 - mse: 0.0092 - val_loss: 0.0091 - val_mse: 0.0091\n",
            "Epoch 19/30\n",
            "14/14 [==============================] - 0s 4ms/step - loss: 0.0100 - mse: 0.0100 - val_loss: 0.0093 - val_mse: 0.0093\n",
            "Epoch 20/30\n",
            "14/14 [==============================] - 0s 5ms/step - loss: 0.0082 - mse: 0.0082 - val_loss: 0.0106 - val_mse: 0.0106\n",
            "Epoch 21/30\n",
            "14/14 [==============================] - 0s 4ms/step - loss: 0.0094 - mse: 0.0094 - val_loss: 0.0125 - val_mse: 0.0125\n",
            "Epoch 22/30\n",
            "14/14 [==============================] - 0s 4ms/step - loss: 0.0098 - mse: 0.0098 - val_loss: 0.0169 - val_mse: 0.0169\n",
            "Epoch 23/30\n",
            "14/14 [==============================] - 0s 6ms/step - loss: 0.0092 - mse: 0.0092 - val_loss: 0.0176 - val_mse: 0.0176\n",
            "Epoch 24/30\n",
            "14/14 [==============================] - 0s 4ms/step - loss: 0.0086 - mse: 0.0086 - val_loss: 0.0106 - val_mse: 0.0106\n",
            "Epoch 25/30\n",
            "14/14 [==============================] - 0s 4ms/step - loss: 0.0076 - mse: 0.0076 - val_loss: 0.0130 - val_mse: 0.0130\n",
            "Epoch 26/30\n",
            "14/14 [==============================] - 0s 4ms/step - loss: 0.0101 - mse: 0.0101 - val_loss: 0.0112 - val_mse: 0.0112\n",
            "Epoch 27/30\n",
            "14/14 [==============================] - 0s 5ms/step - loss: 0.0087 - mse: 0.0087 - val_loss: 0.0100 - val_mse: 0.0100\n",
            "Epoch 28/30\n",
            "14/14 [==============================] - 0s 5ms/step - loss: 0.0088 - mse: 0.0088 - val_loss: 0.0157 - val_mse: 0.0157\n",
            "Epoch 29/30\n",
            "14/14 [==============================] - 0s 5ms/step - loss: 0.0080 - mse: 0.0080 - val_loss: 0.0098 - val_mse: 0.0098\n",
            "Epoch 30/30\n",
            "14/14 [==============================] - 0s 4ms/step - loss: 0.0089 - mse: 0.0089 - val_loss: 0.0108 - val_mse: 0.0108\n"
          ]
        }
      ]
    },
    {
      "cell_type": "markdown",
      "source": [
        "Looks like our model performed weel for this type of confusing data."
      ],
      "metadata": {
        "id": "v84sKWqRexcx"
      }
    },
    {
      "cell_type": "markdown",
      "source": [
        "#6. Evaluate Model"
      ],
      "metadata": {
        "id": "HJBwWvrTbvGG"
      }
    },
    {
      "cell_type": "code",
      "source": [
        "model.evaluate(x_test,y_test)"
      ],
      "metadata": {
        "colab": {
          "base_uri": "https://localhost:8080/"
        },
        "id": "hHATWtNfb19x",
        "outputId": "68b96b02-e99d-4696-857f-e02b0cccdffc"
      },
      "execution_count": null,
      "outputs": [
        {
          "output_type": "stream",
          "name": "stdout",
          "text": [
            "4/4 [==============================] - 0s 3ms/step - loss: 0.0108 - mse: 0.0108\n"
          ]
        },
        {
          "output_type": "execute_result",
          "data": {
            "text/plain": [
              "[0.010810944251716137, 0.010810944251716137]"
            ]
          },
          "metadata": {},
          "execution_count": 62
        }
      ]
    },
    {
      "cell_type": "markdown",
      "source": [
        "#7. predict Results\n",
        "Let's Predict results of y_test and compare the original results of y_test."
      ],
      "metadata": {
        "id": "25yVpqgcb9Ly"
      }
    },
    {
      "cell_type": "code",
      "source": [
        "y_pred=model.predict(x_test)\n",
        "y_pred=y_pred.reshape(-1,1)\n",
        "y_pred_original = sc.inverse_transform(y_pred)\n",
        "y_test_original = sc.inverse_transform(y_test)\n",
        "\n",
        "# Print predicted and actual values\n",
        "print(np.concatenate((y_pred_original, y_test_original), axis=1))"
      ],
      "metadata": {
        "colab": {
          "base_uri": "https://localhost:8080/"
        },
        "id": "sizFVM2zcWRH",
        "outputId": "87111fa8-5a9d-475a-ba88-8714df94fd76"
      },
      "execution_count": null,
      "outputs": [
        {
          "output_type": "stream",
          "name": "stdout",
          "text": [
            "4/4 [==============================] - 0s 3ms/step\n",
            "[[ 6883485.5  8295000.5]\n",
            " [ 2961643.   1890000.1]\n",
            " [ 2961643.   1750000. ]\n",
            " [ 7051693.5  8575000. ]\n",
            " [ 7725145.   7489999.5]\n",
            " [ 4993870.   3920000. ]\n",
            " [ 7182845.5  6789999.5]\n",
            " [ 5511822.   4543000. ]\n",
            " [ 7006997.5  9100000. ]\n",
            " [ 6058398.   6300000. ]\n",
            " [ 3142651.   6895000.5]\n",
            " [ 3254597.   5145000. ]\n",
            " [ 7291161.5  7350000. ]\n",
            " [ 2961643.   3500000. ]\n",
            " [ 5142716.   7140000. ]\n",
            " [ 7462837.   7524999.5]\n",
            " [ 2961643.   3675000. ]\n",
            " [ 9805327.  10150000. ]\n",
            " [ 5474517.   5250000. ]\n",
            " [ 2961643.   2485000. ]\n",
            " [ 2961643.   1890000.1]\n",
            " [ 3949450.2  5495000. ]\n",
            " [ 3541075.5  3605000. ]\n",
            " [ 5866433.5  5215000. ]\n",
            " [ 3986920.2  3332000. ]\n",
            " [ 5735160.5  4200000. ]\n",
            " [ 3881760.   3744999.8]\n",
            " [ 2961643.   3633000. ]\n",
            " [ 4096984.   4130000.2]\n",
            " [ 5760007.5  5950000. ]\n",
            " [ 3866218.5  4403000. ]\n",
            " [ 2961643.   3780000.2]\n",
            " [ 5980423.   6650000. ]\n",
            " [ 6838137.   7000000. ]\n",
            " [ 4196489.   4767000. ]\n",
            " [ 4211887.   4900000. ]\n",
            " [ 3251879.8  3703000. ]\n",
            " [ 4882367.   4473000. ]\n",
            " [ 6339998.   5740000. ]\n",
            " [ 4654662.5  4956000. ]\n",
            " [ 5826251.   8680000. ]\n",
            " [ 5026062.5  4098499.8]\n",
            " [10044904.  12250001. ]\n",
            " [ 3697673.5  3080000.2]\n",
            " [ 2961643.   2604000. ]\n",
            " [ 8354684.5  7979999. ]\n",
            " [ 4623790.   6265000. ]\n",
            " [ 4647019.5  3430000.2]\n",
            " [ 2961643.   2345000. ]\n",
            " [ 4760338.   6650000. ]\n",
            " [ 4799229.   9239999. ]\n",
            " [ 3260638.5  3150000. ]\n",
            " [ 8071310.5  9800000. ]\n",
            " [ 8473342.   7035000. ]\n",
            " [ 2961643.   2380000. ]\n",
            " [ 4802543.5  3080000.2]\n",
            " [ 3900276.   3640000. ]\n",
            " [ 3062787.5  4410000. ]\n",
            " [ 4891429.5  6860000.5]\n",
            " [ 2961643.   3150000. ]\n",
            " [ 6987440.5  9309999. ]\n",
            " [ 3315886.8  3990000. ]\n",
            " [ 3611313.2  4473000. ]\n",
            " [ 2961643.   3325000. ]\n",
            " [ 5930246.   4970000. ]\n",
            " [ 6694603.5  5390000. ]\n",
            " [ 2961643.   4025000. ]\n",
            " [ 3066360.2  3359999.8]\n",
            " [ 5632233.5  6475000. ]\n",
            " [ 4337941.5  2590000. ]\n",
            " [ 4719916.   5810000. ]\n",
            " [ 3727592.8  2870000. ]\n",
            " [ 3344663.   4060000. ]\n",
            " [ 3797815.5  3570000. ]\n",
            " [ 2961643.   4403000. ]\n",
            " [ 3240522.5  5110000. ]\n",
            " [ 2961643.   3500000. ]\n",
            " [ 4274267.5  4900000. ]\n",
            " [ 5088492.   5145000. ]\n",
            " [ 8505435.  10849999. ]\n",
            " [ 3447510.8  3815000.2]\n",
            " [ 4439358.5  4690000. ]\n",
            " [ 4493845.   3640000. ]\n",
            " [ 3769226.5  3290000. ]\n",
            " [ 5784854.   7420000. ]\n",
            " [ 5882650.5  8400000. ]\n",
            " [ 2961643.   2940000. ]\n",
            " [ 2961643.   3150000. ]\n",
            " [ 5928893.   6230000. ]\n",
            " [ 4493305.5  4620000. ]\n",
            " [ 4431967.   6019999.5]\n",
            " [ 3777621.2  3500000. ]\n",
            " [ 6040448.5  6195000.5]\n",
            " [ 4173311.5  3920000. ]\n",
            " [ 4761362.5  5740000. ]\n",
            " [ 2961643.   1750000. ]\n",
            " [ 6118297.5  5600000. ]\n",
            " [ 7025298.   6930000. ]\n",
            " [ 4319135.   5215000. ]\n",
            " [ 3214738.   2450000. ]\n",
            " [ 4305824.5  6230000. ]\n",
            " [ 4701352.   3150000. ]\n",
            " [ 4093027.8  3640000. ]\n",
            " [ 3974526.   3605000. ]\n",
            " [ 6383481.5  5775000. ]\n",
            " [ 6208720.   5873000. ]\n",
            " [ 4150047.   4060000. ]\n",
            " [ 4617584.5  3780000.2]\n",
            " [ 3010261.2  2275000. ]]\n"
          ]
        }
      ]
    },
    {
      "cell_type": "markdown",
      "source": [
        "Our model performed better that predicted results are some accurate to original values."
      ],
      "metadata": {
        "id": "OaBNSLszcdmL"
      }
    },
    {
      "cell_type": "markdown",
      "source": [
        "#8. Visualize Results\n",
        "Let's visualize the y_pred (predicted prices of houses) and y_test (actual prices of houses) on a graph."
      ],
      "metadata": {
        "id": "TcTxu6Zfetcm"
      }
    },
    {
      "cell_type": "code",
      "source": [
        "plt.figure(figsize=(10, 6))\n",
        "plt.plot(y_test, label='Actual Values')\n",
        "plt.plot(y_pred, label='Predicted Values', alpha=0.7)\n",
        "plt.title('Comparison of Actual and Predicted Values')\n",
        "plt.xlabel('Sample index')\n",
        "plt.ylabel('Value of y')\n",
        "plt.legend()\n",
        "plt.show()"
      ],
      "metadata": {
        "colab": {
          "base_uri": "https://localhost:8080/",
          "height": 564
        },
        "id": "rNpmOKddfZXc",
        "outputId": "68eaa5a9-3665-4434-8b12-2e660643a934"
      },
      "execution_count": null,
      "outputs": [
        {
          "output_type": "display_data",
          "data": {
            "text/plain": [
              "<Figure size 1000x600 with 1 Axes>"
            ],
            "image/png": "[encoded data removed]"
          },
          "metadata": {}
        }
      ]
    },
    {
      "cell_type": "markdown",
      "source": [
        "Results are good and accurate to actual prices. We can observe the trends of prices on graph."
      ],
      "metadata": {
        "id": "MHvOn-vlfgFw"
      }
    }
  ]
}